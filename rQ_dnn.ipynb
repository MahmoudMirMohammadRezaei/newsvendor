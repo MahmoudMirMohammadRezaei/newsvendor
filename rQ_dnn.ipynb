{
 "cells": [
  {
   "cell_type": "code",
   "execution_count": 2,
   "metadata": {},
   "outputs": [],
   "source": [
    "import sys\n",
    "import os\n",
    "import tensorflow as tf\n",
    "import numpy as np\n",
    "import scipy.io as sio\n",
    "import scipy.stats as sts\n",
    "import pandas as pd\n",
    "import time\n",
    "# os.environ[\"CUDA_VISIBLE_DEVICES\"]= str(2)"
   ]
  },
  {
   "cell_type": "code",
   "execution_count": 3,
   "metadata": {},
   "outputs": [],
   "source": [
    "# tf.logging.set_verbosity(tf.logging.FATAL)\n",
    "import matplotlib.pyplot as plt\n",
    "\n",
    "from sklearn.neighbors import NearestNeighbors\n",
    "\n",
    "np.random.seed(4)\n",
    "import argparse"
   ]
  },
  {
   "cell_type": "code",
   "execution_count": 4,
   "metadata": {},
   "outputs": [],
   "source": [
    "arg_lists = []\n",
    "parser = argparse.ArgumentParser()\n",
    "\n",
    "def add_argument_group(name):\n",
    "    arg = parser.add_argument_group(name)\n",
    "    arg_lists.append(arg)\n",
    "    return arg\n",
    "\n",
    "def str2bool(v):\n",
    "    return v.lower() in ('true', '1')"
   ]
  }
 ],
 "metadata": {
  "interpreter": {
   "hash": "02da10365ff2e60accfe92623728b5bf08fe6ea81b861eac0df957c75a753e40"
  },
  "kernelspec": {
   "display_name": "Python 3.6.0 64-bit ('3.6.0')",
   "language": "python",
   "name": "python3"
  },
  "language_info": {
   "codemirror_mode": {
    "name": "ipython",
    "version": 3
   },
   "file_extension": ".py",
   "mimetype": "text/x-python",
   "name": "python",
   "nbconvert_exporter": "python",
   "pygments_lexer": "ipython3",
   "version": "3.9.7"
  },
  "orig_nbformat": 4
 },
 "nbformat": 4,
 "nbformat_minor": 2
}
